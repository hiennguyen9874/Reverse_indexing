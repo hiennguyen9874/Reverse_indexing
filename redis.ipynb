{
 "cells": [
  {
   "cell_type": "code",
   "execution_count": 1,
   "metadata": {},
   "outputs": [],
   "source": [
    "import time\n",
    "import redis\n",
    "from datetime import datetime"
   ]
  },
  {
   "cell_type": "code",
   "execution_count": 2,
   "metadata": {
    "tags": []
   },
   "outputs": [
    {
     "output_type": "stream",
     "name": "stderr",
     "text": "23%|██▎       | 6038/25874 [00:00<00:00, 60376.03it/s]Processing on train directory!\n100%|██████████| 25874/25874 [00:00<00:00, 72890.62it/s]\n100%|██████████| 6738/6738 [00:00<00:00, 54534.34it/s]\nProcessing on query directory!\nProcessing on gallery directory!\n100%|██████████| 39466/39466 [00:00<00:00, 91449.77it/s]\ntime excute: 68.17429041862488 seconds\n"
    }
   ],
   "source": [
    "from data import Market1501_Attribute\n",
    "\n",
    "r = redis.StrictRedis(host='localhost', port=6379, db=0)\n",
    "for key in r.scan_iter(\"*\"):\n",
    "    r.delete(key)\n",
    "\n",
    "datasource = Market1501_Attribute(\n",
    "    root_dir='/home/hien/Documents/datasets', download=False, extract=False, re_label_on_train=False)\n",
    "\n",
    "start_time = time.time()\n",
    "\n",
    "attribute_label = datasource.get_attribute('train')[1]\n",
    "start_index = int(datetime.now().strftime(r'%m%d%H%M%S'))\n",
    "for index in range(len(datasource.get_data('train'))):\n",
    "    save_dict = {\n",
    "        'path': datasource.get_data('train')[index][0],\n",
    "        'person_id': datasource.get_data('train')[index][1],\n",
    "        'camera_id': datasource.get_data('train')[index][2]}\n",
    "\n",
    "    for index_attribute in range(len(attribute_label)):\n",
    "        save_dict.update({attribute_label[index_attribute]: int(datasource.get_attribute(\n",
    "            'train')[0][datasource.get_data('train')[index][1]][index_attribute])})\n",
    "    r.hmset(start_index+index, save_dict)\n",
    "    for key, value in save_dict.items():\n",
    "        if key != 'path' and key != 'person_id' and key != 'camera_id':\n",
    "            if value == 1:\n",
    "                r.lpush('1_' + key, start_index+index)\n",
    "            elif value == 0:\n",
    "                r.lpush('0_' + key, start_index+index)\n",
    "\n",
    "print(\"time excute: %s seconds\" % (time.time() - start_time))"
   ]
  },
  {
   "cell_type": "code",
   "execution_count": 6,
   "metadata": {
    "tags": []
   },
   "outputs": [
    {
     "output_type": "error",
     "ename": "TypeError",
     "evalue": "'NoneType' object is not subscriptable",
     "traceback": [
      "\u001b[0;31m---------------------------------------------------------------------------\u001b[0m",
      "\u001b[0;31mTypeError\u001b[0m                                 Traceback (most recent call last)",
      "\u001b[0;32m<ipython-input-6-f57406828b3f>\u001b[0m in \u001b[0;36m<module>\u001b[0;34m\u001b[0m\n\u001b[1;32m      8\u001b[0m \u001b[0;34m\u001b[0m\u001b[0m\n\u001b[1;32m      9\u001b[0m \u001b[0mstart_time\u001b[0m \u001b[0;34m=\u001b[0m \u001b[0mtime\u001b[0m\u001b[0;34m.\u001b[0m\u001b[0mtime\u001b[0m\u001b[0;34m(\u001b[0m\u001b[0;34m)\u001b[0m\u001b[0;34m\u001b[0m\u001b[0;34m\u001b[0m\u001b[0m\n\u001b[0;32m---> 10\u001b[0;31m \u001b[0mattribute_label\u001b[0m \u001b[0;34m=\u001b[0m \u001b[0mdatasource\u001b[0m\u001b[0;34m.\u001b[0m\u001b[0mget_data\u001b[0m\u001b[0;34m(\u001b[0m\u001b[0;34m'train'\u001b[0m\u001b[0;34m)\u001b[0m\u001b[0;34m[\u001b[0m\u001b[0;36m1\u001b[0m\u001b[0;34m]\u001b[0m\u001b[0;34m\u001b[0m\u001b[0;34m\u001b[0m\u001b[0m\n\u001b[0m\u001b[1;32m     11\u001b[0m \u001b[0mstart_index\u001b[0m \u001b[0;34m=\u001b[0m \u001b[0mint\u001b[0m\u001b[0;34m(\u001b[0m\u001b[0mdatetime\u001b[0m\u001b[0;34m.\u001b[0m\u001b[0mnow\u001b[0m\u001b[0;34m(\u001b[0m\u001b[0;34m)\u001b[0m\u001b[0;34m.\u001b[0m\u001b[0mstrftime\u001b[0m\u001b[0;34m(\u001b[0m\u001b[0;34mr'%m%d%H%M%S'\u001b[0m\u001b[0;34m)\u001b[0m\u001b[0;34m)\u001b[0m\u001b[0;34m\u001b[0m\u001b[0;34m\u001b[0m\u001b[0m\n\u001b[1;32m     12\u001b[0m \u001b[0;32mfor\u001b[0m \u001b[0mindex\u001b[0m \u001b[0;32min\u001b[0m \u001b[0mrange\u001b[0m\u001b[0;34m(\u001b[0m\u001b[0mlen\u001b[0m\u001b[0;34m(\u001b[0m\u001b[0mdatasource\u001b[0m\u001b[0;34m.\u001b[0m\u001b[0mget_data\u001b[0m\u001b[0;34m(\u001b[0m\u001b[0;34m'train'\u001b[0m\u001b[0;34m)\u001b[0m\u001b[0;34m[\u001b[0m\u001b[0;36m0\u001b[0m\u001b[0;34m]\u001b[0m\u001b[0;34m)\u001b[0m\u001b[0;34m)\u001b[0m\u001b[0;34m:\u001b[0m\u001b[0;34m\u001b[0m\u001b[0;34m\u001b[0m\u001b[0m\n",
      "\u001b[0;31mTypeError\u001b[0m: 'NoneType' object is not subscriptable"
     ]
    }
   ],
   "source": [
    "from data import PA_100K\n",
    "\n",
    "r = redis.StrictRedis(host='localhost', port=6379, db=1)\n",
    "for key in r.scan_iter(\"*\"):\n",
    "    r.delete(key)\n",
    "\n",
    "datasource = PA_100K(root_dir='/home/hien/Documents/datasets', download=False, extract=False)\n",
    "all_data = datasource.get_data('train')[0] + datasource.get_data('val')[0] + datasource.get_data('test')[0]\n",
    "attribute_label = datasource.get_data('train')[1]\n",
    "\n",
    "start_time = time.time()\n",
    "start_index = int(datetime.now().strftime(r'%m%d%H%M%S'))\n",
    "for index in range(len(datasource.get_data('train')[0])):\n",
    "        save_dict = {\n",
    "            'path': datasource.get_data('train')[0][index][0]\n",
    "        }\n",
    "        for index_attribute in range(len(attribute_label)):\n",
    "            save_dict.update({attribute_label[index_attribute]: int(datasource.get_data(\n",
    "                'train')[0][index][1][index_attribute])})\n",
    "        r.hmset(start_index+index, save_dict)\n",
    "\n",
    "        for key, value in save_dict.items():\n",
    "            if key != 'path':\n",
    "                if value == 1:\n",
    "                    r.lpush('1_' + key, start_index+index)\n",
    "                elif value == 0:\n",
    "                    r.lpush('0_' + key, start_index+index)\n",
    "print(\"time excute: %s seconds\" % (time.time() - start_time))"
   ]
  },
  {
   "cell_type": "code",
   "execution_count": null,
   "metadata": {},
   "outputs": [],
   "source": []
  }
 ],
 "metadata": {
  "language_info": {
   "codemirror_mode": {
    "name": "ipython",
    "version": 3
   },
   "file_extension": ".py",
   "mimetype": "text/x-python",
   "name": "python",
   "nbconvert_exporter": "python",
   "pygments_lexer": "ipython3",
   "version": "3.7.7-final"
  },
  "orig_nbformat": 2,
  "kernelspec": {
   "name": "python37764bitstreidvenva7d193930ad04a5cb729bd9947531e61",
   "display_name": "Python 3.7.7 64-bit ('st-Reid': venv)"
  }
 },
 "nbformat": 4,
 "nbformat_minor": 2
}